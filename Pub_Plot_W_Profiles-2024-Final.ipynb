{
 "cells": [
  {
   "cell_type": "code",
   "execution_count": 1,
   "metadata": {},
   "outputs": [
    {
     "name": "stdout",
     "output_type": "stream",
     "text": [
      "Once deleted, variables cannot be recovered. Proceed (y/[n])? y\n"
     ]
    }
   ],
   "source": [
    "%reset"
   ]
  },
  {
   "cell_type": "code",
   "execution_count": 2,
   "metadata": {},
   "outputs": [
    {
     "name": "stdout",
     "output_type": "stream",
     "text": [
      "OrderedDict([('WRF_OXF', OrderedDict([('AccumPrecip', 'RAINNC'), ('OLR', 'OLR'), ('W', 'W'), ('T', 'air_temperature'), ('P', 'air_pressure'), ('rho', 'RHO'), ('U', 'U'), ('V', 'V'), ('QV', 'QVAPOR'), ('LH', 'LHRTOT'), ('QCLD', 'QCLOUD'), ('QRAIN', 'QRAIN'), ('QICE', 'QICE'), ('QSNOW', 'QSNOW'), ('QGRA', 'QGRAUP'), ('NCLD', 'QNCLOUD'), ('NRAIN', 'QNRAIN'), ('NICE', 'QNICE'), ('NSNOW', 'QNSNOW'), ('NGRA', 'QNGRAUPEL'), ('NAERO', 'NAER1'), ('QCOND', 'PCC'), ('QDEP', ''), ('QCNUC', ''), ('QINUC', 'MNUCCD'), ('liquid_hydrometeors', ['QCLOUD', 'QRAIN']), ('ice_hydrometeors', ['QICE', 'QSNOW', 'QGRAUP']), ('hydrometeors', ['QCLOUD', 'QRAIN', 'QICE', 'QSNOW', 'QGRAUP'])])), ('WRF_NASA', OrderedDict([('AccumPrecip', 'RAINNC'), ('OLR', 'TLWUP'), ('W', 'W'), ('T', 'air_temperature'), ('P', 'air_pressure'), ('rho', 'RHO'), ('U', 'U'), ('V', 'V'), ('QV', 'QVAPOR'), ('LH', 'LATHEAT'), ('QCLD', 'QCLOUD'), ('QRAIN', 'QRAIN'), ('QICE', 'QICE'), ('QSNOW', 'QSNOW'), ('QGRA', 'QGRAUP'), ('NCLD', 'QNCLOUD'), ('NRAIN', 'QNRAIN'), ('NICE', 'QNICE'), ('NSNOW', 'QNSNOW'), ('NGRA', 'QNGRAUPEL'), ('NAERO', 'NA1'), ('QCOND', 'CONDEVAP'), ('QDEP', 'DEPSUB'), ('QCNUC', 'CLDNUC'), ('QINUC', 'ICENUC'), ('liquid_hydrometeors', ['QCLOUD', 'QRAIN']), ('ice_hydrometeors', ['QICE']), ('hydrometeors', ['QCLOUD', 'QRAIN', 'QICE'])])), ('RAMS_CSU', OrderedDict([('AccumPrecip', 'surface_precipitation_accumulated'), ('OLR', 'LWup_TOA'), ('W', 'WC'), ('T', 'air_temperature'), ('P', 'air_pressure'), ('rho', 'dn0'), ('U', 'UC'), ('V', 'VC'), ('QV', 'RV'), ('LH', 'LATHEATVAP'), ('QCLD', 'RCP'), ('QRAIN', 'RRP'), ('QDRI', 'RDP'), ('QAGG', 'RAP'), ('QICE', 'RPP'), ('QSNOW', 'RSP'), ('QGRA', 'RGP'), ('QHAIL', 'RHP'), ('NCLD', 'CCP'), ('NRAIN', 'CRP'), ('NDRI', 'CDP'), ('NAGG', 'CAP'), ('NICE', 'CPP'), ('NSNOW', 'CSP'), ('NGRA', 'CGP'), ('NHAIL', 'CHP'), ('NAERO', 'CCCNP'), ('QCOND', 'VAPLIQT'), ('QDEP', 'VAPICET'), ('QCNUC', 'NUCCLDRT'), ('QINUC', 'NUCICERT'), ('liquid_hydrometeors', ['RCP', 'RRP', 'RDP']), ('ice_hydrometeors', ['RPP', 'RSP', 'RAP', 'RGP', 'RHP']), ('hydrometeors', ['RCP', 'RRP', 'RDP', 'RPP', 'RSP', 'RAP', 'RGP', 'RHP'])])), ('COSMO_KIT', OrderedDict([('AccumPrecip', 'TOT_PREC'), ('OLR', 'THBT_RAD'), ('W', 'W'), ('T', 'T'), ('P', 'P'), ('U', 'U'), ('V', 'V'), ('QV', 'QV'), ('LH', 'D_LHR'), ('QCLD', 'QC'), ('QRAIN', 'QR'), ('QICE', 'QI'), ('QSNOW', 'QS'), ('QGRA', 'QG'), ('QHAIL', 'QH'), ('NCLD', 'NCCLOUD'), ('NRAIN', 'NCRAIN'), ('NICE', 'NCICE'), ('NSNOW', 'NCSNOW'), ('NGRA', 'NCGRAUPEL'), ('NHAIL', 'NCHAIL'), ('QCOND', 'D_SC_SATAD'), ('QEVAP', ''), ('QDEP', 'D_SC_SATAD'), ('QCNUC', 'D_QC_NUC'), ('QINUC', 'D_QI_NUC'), ('liquid_hydrometeors', ['QC', 'QR']), ('ice_hydrometeors', ['QI', 'QS', 'QG', 'QH']), ('hydrometeors', ['QC', 'QR', 'QI', 'QS', 'QG', 'QH'])])), ('UM_LEEDS', OrderedDict([('AccumPrecip', 'AccumPrecip'), ('OLR', 'LWup_TOA'), ('W', 'w'), ('T', 'T'), ('P', 'P'), ('rho', 'rho'), ('U', 'u'), ('V', 'v'), ('QV', 'qv'), ('LH', 'LH_rate'), ('QCLD', 'qc'), ('QRAIN', 'qr'), ('QICE', 'qi'), ('QSNOW', 'qs'), ('QGRA', 'qg'), ('NCLD', 'nc'), ('NRAIN', 'nr'), ('NICE', 'ni'), ('NSNOW', 'ns'), ('NGRA', 'ng'), ('NAERO', 'na'), ('QCOND', 'C'), ('QEVAP', 'E'), ('QDEP', 'D'), ('QSUB', 'S'), ('QCNUC', 'CldNuc'), ('QINUC', 'IceNuc_hom'), ('liquid_hydrometeors', ['qc', 'qr']), ('ice_hydrometeors', ['qi', 'qs', 'qg']), ('hydrometeors', ['qc', 'qr', 'qi', 'qs', 'qg'])])), ('MesoNH_Toulouse', OrderedDict([('AccumPrecip', 'pcp_accum'), ('OLR', 'LWup_TOA'), ('W', 'w'), ('T', 'T'), ('P', 'P'), ('rho', 'rho'), ('U', 'u'), ('V', 'v'), ('QV', 'qv'), ('LH', 'LH_rate'), ('QCLD', 'qc'), ('QRAIN', 'qr'), ('QICE', 'qi'), ('QSNOW', 'qs'), ('QGRA', 'qg'), ('NCLD', 'nc'), ('NRAIN', 'nr'), ('NICE', 'ni'), ('NSNOW', 'ns'), ('NGRA', 'ng'), ('NAERO', 'n_ccn_free'), ('QCOND', 'CE'), ('QDEP', 'DS'), ('QCNUC', 'CldNuc'), ('QINUC', 'IceNuc'), ('liquid_hydrometeors', ['qc', 'qr']), ('ice_hydrometeors', ['qi', 'qs', 'qg']), ('hydrometeors', ['qc', 'qr', 'qi', 'qs', 'qg'])])), ('WRF_PNNL', OrderedDict([('AccumPrecip', 'RAINNC'), ('OLR', 'OLR'), ('W', 'W'), ('T', 'air_temperature'), ('P', 'air_pressure'), ('rho', 'RHO'), ('U', 'U'), ('V', 'V'), ('QV', 'QVAPOR'), ('LH', 'LH_RATE'), ('QCLD', 'QCLOUD'), ('QRAIN', 'QRAIN'), ('QICE', 'QICE'), ('QSNOW', 'QSNOW'), ('QGRA', 'QGRAUP'), ('NCLD', 'QNCLOUD'), ('NRAIN', 'QNRAIN'), ('NICE', 'QNICE'), ('NSNOW', 'QNSNOW'), ('NGRA', 'QNGRAUPEL'), ('NAERO', 'QNCCN'), ('QCOND', 'CE_RATE'), ('QDEP', 'DS_RATE'), ('QCNUC', 'CLDNUCL_RATE'), ('QINUC', 'ICENUCL_RATE'), ('liquid_hydrometeors', ['QCLOUD', 'QRAIN']), ('ice_hydrometeors', ['QICE', 'QSNOW', 'QGRAUP']), ('hydrometeors', ['QCLOUD', 'QRAIN', 'QICE', 'QSNOW', 'QGRAUP'])]))])\n"
     ]
    }
   ],
   "source": [
    "import numpy as np\n",
    "import glob\n",
    "import os,sys\n",
    "# Import Python Libraries\n",
    "import iris\n",
    "import iris.plot as iplt\n",
    "from iris.analysis import MEAN, MAX, SUM\n",
    "import matplotlib\n",
    "matplotlib.pyplot.switch_backend('agg')\n",
    "import matplotlib.pyplot as plt\n",
    "import matplotlib.dates as mdates\n",
    "import datetime\n",
    "%matplotlib inline\n",
    "acpc_workspace='/group_workspaces/jasmin2/acpc'\n",
    "acpc_workspace='/gws/nopw/j04/acpc'\n",
    "#sys.path.append(os.path.join(acpc_workspace,'houston_deep_convection/Intercomparison/acpc_intercomparison'))\n",
    "sys.path.append('/home/users/pmarinescu/acpc_intercomparison')\n",
    "sys.path.append('/home/users/pmarinescu')\n",
    "from acpc_intercomparison_3 import load_variable_cube,color,variable_names,directory,filename\n",
    "#from Setup_intercomparison import load_variable_cube,color,variable_names,directory,filename\n",
    "from collections import defaultdict, OrderedDict\n",
    "f = lambda: defaultdict(f) \n",
    "\n",
    "import warnings\n",
    "warnings.filterwarnings('ignore', category=UserWarning, append=True)\n",
    "warnings.filterwarnings('ignore', category=RuntimeWarning, append=True)\n",
    "warnings.filterwarnings('ignore', category=FutureWarning, append=True)"
   ]
  },
  {
   "cell_type": "code",
   "execution_count": 3,
   "metadata": {},
   "outputs": [],
   "source": [
    "plotdir=os.path.join(acpc_workspace,'public/acpc/pmarin','Plots_Apr2020')\n",
    "os.makedirs(plotdir,exist_ok=True)\n",
    "\n",
    "savedir=os.path.join(acpc_workspace,'houston_deep_convection/Processing','Save_2024')\n",
    "os.makedirs(savedir,exist_ok=True)\n"
   ]
  },
  {
   "cell_type": "code",
   "execution_count": 4,
   "metadata": {},
   "outputs": [],
   "source": [
    "models=[]\n",
    "models.append('COSMO_KIT')\n",
    "models.append('ICON')\n",
    "models.append('MesoNH_Toulouse')\n",
    "models.append('RAMS_CSU')\n",
    "models.append('UM_LEEDS')\n",
    "models.append('WRF_NASA')\n",
    "models.append('WRF_OXF')\n",
    "models.append('WRF_PNNL')\n",
    "\n",
    "cases=[]\n",
    "cases.append('POL')\n",
    "cases.append('CLN')\n",
    "\n",
    "modelnames=[]\n",
    "modelnames.append('COSMO')\n",
    "modelnames.append('ICON')\n",
    "modelnames.append('MesoNH')\n",
    "modelnames.append('RAMS')\n",
    "modelnames.append('UM')\n",
    "modelnames.append('NU-WRF')\n",
    "modelnames.append('WRF-Morr')\n",
    "modelnames.append('WRF-SBM')\n",
    "\n",
    "casenames=[]\n",
    "casenames.append('High-Aero')\n",
    "casenames.append('Low-Aero')\n"
   ]
  },
  {
   "cell_type": "code",
   "execution_count": 5,
   "metadata": {},
   "outputs": [],
   "source": [
    "# Load in ICON data from other location\n",
    "def call_ICON_mean_profile(vname, case, thr):\n",
    "\n",
    "    import pickle\n",
    "    savepath = '/gws/nopw/j04/acpc/users/pmarin/ICON_Profs_2/'\n",
    "#    thr = 1e-05\n",
    "#    vname = 'qr'\n",
    "    print('ICON'+case)\n",
    "    msum_prof = np.zeros(95)\n",
    "    csum_prof = np.zeros(95)\n",
    "    for t in np.arange(48,193):\n",
    "        filename = 'BC_ICON_'+case+'_'+vname+'_tc'+str(thr)+str(t)+'_prof.p'\n",
    "        [prof,cntprof,AGL_profmid] = pickle.load(open( savepath+filename, \"rb\" ) )\n",
    "\n",
    "        cntprof[np.isnan(prof)] = 0\n",
    "        prof[np.isnan(prof)] = 0\n",
    "\n",
    "        msum_prof = msum_prof + (prof*cntprof)\n",
    "        csum_prof = csum_prof + cntprof\n",
    "    \n",
    "    return(msum_prof/csum_prof,csum_prof,AGL_profmid)\n"
   ]
  },
  {
   "cell_type": "code",
   "execution_count": null,
   "metadata": {},
   "outputs": [
    {
     "name": "stdout",
     "output_type": "stream",
     "text": [
      "_qtcp1\n",
      "/gws/nopw/j04/acpc/houston_deep_convection/Processing/Save_2024/W\n"
     ]
    },
    {
     "name": "stderr",
     "output_type": "stream",
     "text": [
      "/home/users/pmarinescu/anaconda3/envs/ACPC_intercomparison/lib/python3.6/site-packages/iris/fileformats/_pyke_rules/compiled_krb/fc_rules_cf_fc.py:1725: UnknownCellMethodWarning: NetCDF variable 'W' contains unknown cell method 'count'\n",
      "  warnings.warn(message=msg, category=UnknownCellMethodWarning)\n"
     ]
    },
    {
     "name": "stdout",
     "output_type": "stream",
     "text": [
      "1084951\n"
     ]
    },
    {
     "name": "stderr",
     "output_type": "stream",
     "text": [
      "/home/users/pmarinescu/anaconda3/envs/ACPC_intercomparison/lib/python3.6/site-packages/iris/fileformats/_pyke_rules/compiled_krb/fc_rules_cf_fc.py:1725: UnknownCellMethodWarning: NetCDF variable 'W' contains unknown cell method 'count'\n",
      "  warnings.warn(message=msg, category=UnknownCellMethodWarning)\n"
     ]
    },
    {
     "name": "stdout",
     "output_type": "stream",
     "text": [
      "1257573\n",
      "ICONPOL\n",
      "ICONCLN\n"
     ]
    },
    {
     "name": "stderr",
     "output_type": "stream",
     "text": [
      "/home/users/pmarinescu/anaconda3/envs/ACPC_intercomparison/lib/python3.6/site-packages/iris/fileformats/_pyke_rules/compiled_krb/fc_rules_cf_fc.py:1725: UnknownCellMethodWarning: NetCDF variable 'w' contains unknown cell method 'count'\n",
      "  warnings.warn(message=msg, category=UnknownCellMethodWarning)\n"
     ]
    },
    {
     "name": "stdout",
     "output_type": "stream",
     "text": [
      "615190\n"
     ]
    },
    {
     "name": "stderr",
     "output_type": "stream",
     "text": [
      "/home/users/pmarinescu/anaconda3/envs/ACPC_intercomparison/lib/python3.6/site-packages/iris/fileformats/_pyke_rules/compiled_krb/fc_rules_cf_fc.py:1725: UnknownCellMethodWarning: NetCDF variable 'w' contains unknown cell method 'count'\n",
      "  warnings.warn(message=msg, category=UnknownCellMethodWarning)\n"
     ]
    },
    {
     "name": "stdout",
     "output_type": "stream",
     "text": [
      "433331\n"
     ]
    },
    {
     "name": "stderr",
     "output_type": "stream",
     "text": [
      "/home/users/pmarinescu/anaconda3/envs/ACPC_intercomparison/lib/python3.6/site-packages/iris/fileformats/_pyke_rules/compiled_krb/fc_rules_cf_fc.py:1725: UnknownCellMethodWarning: NetCDF variable 'WC' contains unknown cell method 'count'\n",
      "  warnings.warn(message=msg, category=UnknownCellMethodWarning)\n"
     ]
    },
    {
     "name": "stdout",
     "output_type": "stream",
     "text": [
      "1216319\n"
     ]
    },
    {
     "name": "stderr",
     "output_type": "stream",
     "text": [
      "/home/users/pmarinescu/anaconda3/envs/ACPC_intercomparison/lib/python3.6/site-packages/iris/fileformats/_pyke_rules/compiled_krb/fc_rules_cf_fc.py:1725: UnknownCellMethodWarning: NetCDF variable 'WC' contains unknown cell method 'count'\n",
      "  warnings.warn(message=msg, category=UnknownCellMethodWarning)\n"
     ]
    },
    {
     "name": "stdout",
     "output_type": "stream",
     "text": [
      "971334\n"
     ]
    },
    {
     "name": "stderr",
     "output_type": "stream",
     "text": [
      "/home/users/pmarinescu/anaconda3/envs/ACPC_intercomparison/lib/python3.6/site-packages/iris/fileformats/_pyke_rules/compiled_krb/fc_rules_cf_fc.py:1725: UnknownCellMethodWarning: NetCDF variable 'w' contains unknown cell method 'count'\n",
      "  warnings.warn(message=msg, category=UnknownCellMethodWarning)\n"
     ]
    },
    {
     "name": "stdout",
     "output_type": "stream",
     "text": [
      "353400\n"
     ]
    },
    {
     "name": "stderr",
     "output_type": "stream",
     "text": [
      "/home/users/pmarinescu/anaconda3/envs/ACPC_intercomparison/lib/python3.6/site-packages/iris/fileformats/_pyke_rules/compiled_krb/fc_rules_cf_fc.py:1725: UnknownCellMethodWarning: NetCDF variable 'w' contains unknown cell method 'count'\n",
      "  warnings.warn(message=msg, category=UnknownCellMethodWarning)\n"
     ]
    },
    {
     "name": "stdout",
     "output_type": "stream",
     "text": [
      "374105\n"
     ]
    },
    {
     "name": "stderr",
     "output_type": "stream",
     "text": [
      "/home/users/pmarinescu/anaconda3/envs/ACPC_intercomparison/lib/python3.6/site-packages/iris/fileformats/_pyke_rules/compiled_krb/fc_rules_cf_fc.py:1725: UnknownCellMethodWarning: NetCDF variable 'W' contains unknown cell method 'count'\n",
      "  warnings.warn(message=msg, category=UnknownCellMethodWarning)\n"
     ]
    },
    {
     "name": "stdout",
     "output_type": "stream",
     "text": [
      "498405\n"
     ]
    },
    {
     "name": "stderr",
     "output_type": "stream",
     "text": [
      "/home/users/pmarinescu/anaconda3/envs/ACPC_intercomparison/lib/python3.6/site-packages/iris/fileformats/_pyke_rules/compiled_krb/fc_rules_cf_fc.py:1725: UnknownCellMethodWarning: NetCDF variable 'W' contains unknown cell method 'count'\n",
      "  warnings.warn(message=msg, category=UnknownCellMethodWarning)\n"
     ]
    },
    {
     "name": "stdout",
     "output_type": "stream",
     "text": [
      "558146\n"
     ]
    },
    {
     "name": "stderr",
     "output_type": "stream",
     "text": [
      "/home/users/pmarinescu/anaconda3/envs/ACPC_intercomparison/lib/python3.6/site-packages/iris/fileformats/_pyke_rules/compiled_krb/fc_rules_cf_fc.py:1725: UnknownCellMethodWarning: NetCDF variable 'W' contains unknown cell method 'count'\n",
      "  warnings.warn(message=msg, category=UnknownCellMethodWarning)\n"
     ]
    },
    {
     "name": "stdout",
     "output_type": "stream",
     "text": [
      "459890\n"
     ]
    },
    {
     "name": "stderr",
     "output_type": "stream",
     "text": [
      "/home/users/pmarinescu/anaconda3/envs/ACPC_intercomparison/lib/python3.6/site-packages/iris/fileformats/_pyke_rules/compiled_krb/fc_rules_cf_fc.py:1725: UnknownCellMethodWarning: NetCDF variable 'W' contains unknown cell method 'count'\n",
      "  warnings.warn(message=msg, category=UnknownCellMethodWarning)\n"
     ]
    }
   ],
   "source": [
    "import numpy.ma as ma\n",
    "import copy\n",
    "\n",
    "#plt.rcParams.update({'font.size': 17})\n",
    "#fig,ax = plt.subplots(nrows=2,ncols=2,figsize=(27/2.54,30/2.54))\n",
    "#fig.subplots_adjust(left=0.1,right=0.65,hspace=0.7,\n",
    "#                 bottom=0.05,top=0.95,wspace=0.4)\n",
    "#fig.subplots_adjust(left=0.06,right=0.97,hspace=0.32,\n",
    "#                 bottom=0.15,top=0.95,wspace=0.2)\n",
    "\n",
    "plt.rcParams.update({'font.size': 13})\n",
    "fig,ax = plt.subplots(nrows=4,ncols=2,figsize=(24/2.54,42/2.54))\n",
    "#fig.subplots_adjust(left=0.1,right=0.65,hspace=0.7,\n",
    "#                 bottom=0.05,top=0.95,wspace=0.4)\n",
    "fig.subplots_adjust(top=0.80,hspace=0.4)\n",
    "\n",
    "\n",
    "#threshs = ['','_qtcp1']\n",
    "threshs = ['_qtcp1']\n",
    "thrs = [0.0001]\n",
    "tname = 'In-Cloud Mean'\n",
    "xlims_l = [[-0,4],[-4,0]]\n",
    "xlims_r = [[-100,100],[-100,100]]\n",
    "xlims_ra = [[0,150],[0,125]]\n",
    "\n",
    "#threshs = ['']\n",
    "#thrs = [0]\n",
    "#tname = 'Domain Mean'\n",
    "#xlims_l = [[-0.05,0.05],[-0,0.5],[-0.5,0]]\n",
    "#xlims_r = [[-200,200],[-50,50],[-50,50]]\n",
    "\n",
    "samp_thr = 10000.\n",
    "temp_arr = ma.masked_array(np.zeros((2,91,len(models))))\n",
    "min_arr = ma.masked_array(np.zeros((2,91)))\n",
    "max_arr = ma.masked_array(np.zeros((2,91)))\n",
    "ran_arr = ma.masked_array(np.zeros((2,91)))\n",
    "min2_arr = ma.masked_array(np.zeros((2,91)))\n",
    "max2_arr = ma.masked_array(np.zeros((2,91)))\n",
    "ran2_arr = ma.masked_array(np.zeros((2,91)))\n",
    "\n",
    "dx = '500m'; dt = '5m'\n",
    "# Line Styles for Clean and Polluted Cases\n",
    "ls={}; ls['CLN']='--'; ls['POL']='-'\n",
    "\n",
    "varnames = ['Wup','Wdn']\n",
    "varnamesi = ['wPos','wNeg']\n",
    "ttl_l0 = ['(a) ','(b) ']\n",
    "ttl_l = ['W$_{up}$ ('+tname+')','W$_{dn}$ ('+tname+')']\n",
    "ttl_r0 = ['(c) ','(d) ']\n",
    "ttl_2 = ['(e) ','(f) ']\n",
    "ttl_3 = ['(g) ','(h) ']\n",
    "\n",
    "ylims = [0,14]\n",
    "\n",
    "xlbls = ['m s$^{-1}$','m s$^{-1}$','m s$^{-1}$']\n",
    "logs = [0,0,0]\n",
    "scale_factors = [1,1,1] \n",
    "\n",
    "lws = 3\n",
    "lwl = 3\n",
    "##################################################\n",
    "# Load and plot data for XYT Mean\n",
    "# Loop through thresholds\n",
    "##################################################\n",
    "\n",
    "for v in np.arange(0,len(varnames)):\n",
    "    for i in np.arange(0,len(threshs)):\n",
    "        print(threshs[i])\n",
    "        thresh=threshs[i]\n",
    "        thr=thrs[i]\n",
    "   \n",
    "        varname = varnames[v]\n",
    "        vnamei = varnamesi[v]\n",
    "        scale_factor = scale_factors[i]\n",
    "        savedir_i=os.path.join(savedir,'W')\n",
    "        print(savedir_i)\n",
    "        var_xyt_mean={}\n",
    "        var_xyt_numb={}\n",
    "        model_hgts={}\n",
    "        for model in models:\n",
    "            if model == 'ICON':\n",
    "                for case in cases:\n",
    "                    [var_xyt_mean[model,case],var_xyt_numb[model,case],model_hgts[model,case]]=call_ICON_mean_profile(vnamei, case, thr)\n",
    "            else:\n",
    "                for case in cases:\n",
    "                    #print(model,case)\n",
    "                    var_xyt_mean[model,case]=iris.load_cube(os.path.join(savedir_i,f'{varname}_xyt_mean_{model}_{case}_{dx}_{dt}{thresh}_varBC.nc'))\n",
    "                    model_hgts[model,case] = var_xyt_mean[model,case].coord('geopotential_height').points\n",
    "                    var_xyt_mean[model,case]=var_xyt_mean[model,case].data\n",
    "\n",
    "                    var_xyt_numb[model,case]=iris.load_cube(os.path.join(savedir_i,f'{varname}_xyt_numb_{model}_{case}_{dx}_{dt}{thresh}_varBC.nc'))\n",
    "                    var_xyt_numb[model,case]=var_xyt_numb[model,case].data\n",
    "                    print(np.max(var_xyt_numb[model,case]))\n",
    "\n",
    "        # Loop and Plot\n",
    "        cnt = 0\n",
    "        for model in models:\n",
    "            cntc = 0\n",
    "            for case in cases:\n",
    "                var_xyt_mean[model,case][var_xyt_numb[model,case] < samp_thr] = np.nan\n",
    "                #print(model,case)\n",
    "                if cnt == 0:\n",
    "                    ax[0,v].plot(var_xyt_mean[model,case]*scale_factor,\n",
    "                            model_hgts[model,case]/1000.,\n",
    "                            color='k',\n",
    "                            ls=ls[case],\n",
    "                            lw=lws,\n",
    "                            label=f'{casenames[cntc]}')\n",
    "\n",
    "                    ax[0,v].plot(var_xyt_mean[model,case]*scale_factor,\n",
    "                            model_hgts[model,case]/1000.,\n",
    "                            color=color[model],\n",
    "                            ls=ls[case],\n",
    "                            lw=lws,\n",
    "                            label='_no_legend_')                    \n",
    "                else:\n",
    "                    ax[0,v].plot(var_xyt_mean[model,case]*scale_factor,\n",
    "                            model_hgts[model,case]/1000.,\n",
    "                            color=color[model],\n",
    "                            ls=ls[case],\n",
    "                            lw=lws)\n",
    "                cntc = cntc + 1\n",
    "            cnt = cnt + 1\n",
    "\n",
    "        ax[0,v].set_xlabel(xlbls[v])\n",
    "        ax[0,v].set_ylim(ylims)\n",
    "        ax[0,v].set_xlim(xlims_l[v])\n",
    "        if logs[v] == 1:\n",
    "            ax[0,v].set_xscale('log')\n",
    "        ax[0,v].set_title(ttl_l0[v]+ttl_l[v])\n",
    "\n",
    "        ##################################################\n",
    "        # Load and plot data for XYT Mean, no threshold, Absolute Differences and Percentage Differences\n",
    "        ##################################################\n",
    "        ax[1,v].plot([0,0],[0,20],'-k',lw=1.5)\n",
    "\n",
    "        cnt = 0\n",
    "        for model in models:\n",
    "            var_pol = var_xyt_mean[model,'POL']*scale_factor\n",
    "            var_cle = var_xyt_mean[model,'CLN']*scale_factor\n",
    "            var_plot = (var_pol-var_cle) / var_cle * 100    \n",
    "\n",
    "            for jj in np.arange(0,len(var_pol)):\n",
    "                if (var_pol[jj] <= 0) and (var_cle[jj] >= 0):\n",
    "                    var_plot[jj] = np.nan; \n",
    "                if (var_pol[jj] >= 0) and (var_cle[jj] <= 0):\n",
    "                    var_plot[jj] = np.nan; \n",
    "\n",
    "            # Calculate median and range at each altitude\n",
    "            if model == 'UM_LEEDS' or model == 'COSMO_KIT' or model == 'ICON':\n",
    "                var_plot = np.flip(var_plot,axis=0)\n",
    "            temp_arr[v,:,cnt] = copy.deepcopy(var_plot[0:91])\n",
    "            \n",
    "            cnt = cnt + 1\n",
    "            \n",
    "        min_arr[v,:] = np.nanmin(temp_arr[v,:,:],axis=1)\n",
    "        max_arr[v,:] = np.nanmax(temp_arr[v,:,:],axis=1)\n",
    "        ran_arr[v,:] = max_arr[v,:] - min_arr[v,:]\n",
    "\n",
    "        ax[1,v].plot(np.nanmedian(temp_arr[v,:,:],axis=1),model_hgts[model,case][0:91]/1000.0,\n",
    "                    color='gray',\n",
    "                    ms=0,\n",
    "                    linewidth=10,\n",
    "                    linestyle='-',\n",
    "                    label='_no_legend_')\n",
    "        cnt = 0\n",
    "        for model in models:\n",
    "            var_pol = var_xyt_mean[model,'POL']*scale_factor\n",
    "            var_cle = var_xyt_mean[model,'CLN']*scale_factor\n",
    "            var_plot = (var_pol-var_cle) / var_cle * 100    \n",
    "\n",
    "            for jj in np.arange(0,len(var_pol)):\n",
    "                if (var_pol[jj] <= 0) and (var_cle[jj] >= 0):\n",
    "                    var_plot[jj] = np.nan; \n",
    "                if (var_pol[jj] >= 0) and (var_cle[jj] <= 0):\n",
    "                    var_plot[jj] = np.nan; \n",
    "            \n",
    "            ax[1,v].plot(var_plot,\n",
    "                            model_hgts[model,case]/1000.0,\n",
    "                            color=color[model],\n",
    "                            ls='-',\n",
    "                            lw=lwl,\n",
    "                            label=f'{modelnames[cnt]}')\n",
    "            cnt = cnt + 1\n",
    "\n",
    "        #ax.set_xticks(np.arange(-0.006,0.0021,0.002))\n",
    "        ax[1,v].set_xlabel('Percentage Difference (%)')\n",
    "    #    ax[0,1].set_ylabel('Altitude (km)')\n",
    "        ax[1,v].set_ylim(ylims)\n",
    "        ax[1,v].set_xlim(xlims_r[v])\n",
    "        ax[1,v].set_title(ttl_r0[v]+'High-Aero - Low-Aero')\n",
    "\n",
    "        # Calculate range excluding the min and max values\n",
    "        for zzz in np.arange(0,91):\n",
    "            temp_arr[v,zzz,:][temp_arr[v,zzz,:] == min_arr[v,zzz]] = np.nan\n",
    "            temp_arr[v,zzz,:][temp_arr[v,zzz,:] == max_arr[v,zzz]] = np.nan\n",
    "        min2_arr[v,:] = np.nanmin(temp_arr[v,:,:],axis=1)\n",
    "        max2_arr[v,:] = np.nanmax(temp_arr[v,:,:],axis=1)\n",
    "        ran2_arr[v,:] = max2_arr[v,:] - min2_arr[v,:]        \n",
    "\n",
    "# Define altitude range for finding model ensemble statistics\n",
    "id0 = 0 #km\n",
    "id1 = 11 #km\n",
    "zid0 = int(np.where(np.abs(model_hgts[model,case][0:91]/1000.0-id0) == np.min(np.abs(model_hgts[model,case][0:91]/1000.0-id0)))[0])\n",
    "zid1 = int(np.where(np.abs(model_hgts[model,case][0:91]/1000.0-id1) == np.min(np.abs(model_hgts[model,case][0:91]/1000.0-id1)))[0])\n",
    "print(zid0,zid1) # Print Model Levels\n",
    "    \n",
    "# Add Min Max Range to all plots    \n",
    "for i in np.arange(0,2):\n",
    "    mid = int(np.where(ran_arr[i,zid0:zid1] == np.nanmax(ran_arr[i,zid0:zid1]))[0])\n",
    "    mid2 = int(np.where(ran2_arr[i,zid0:zid1] == np.nanmax(ran2_arr[i,zid0:zid1]))[0])\n",
    "\n",
    "    ylims = [0,14]\n",
    "\n",
    "    lw = 3\n",
    "    ss = 100\n",
    "    cs = ['blue','red','black','grey']    \n",
    "    \n",
    "    ax[2,i].plot(np.zeros(91),model_hgts[model,case][0:91]/1000.0,lw=1.5,c='k')\n",
    "    ax[2,i].plot(min_arr[i,:],model_hgts[model,case][0:91]/1000.0,lw=lw,c=cs[0])\n",
    "    ax[2,i].plot(max_arr[i,:],model_hgts[model,case][0:91]/1000.0,lw=lw,c=cs[1])\n",
    "    ax[2,i].scatter(min_arr[i,mid],model_hgts[model,case][mid]/1000.0,s=ss,c=cs[2])\n",
    "    ax[2,i].scatter(max_arr[i,mid],model_hgts[model,case][mid]/1000.0,s=ss,c=cs[2])\n",
    "    ax[2,i].set_title(ttl_2[i]+' Min / Max ('+str(int(min_arr[i,mid]))+' / '+str(int(max_arr[i,mid]))+')',color=cs[2])\n",
    "    #ax[0].set_title(r'\\textcolor{blue}{Min}'+' / Max ('+str(np.round(min_arr[i,mid],1))+' / '+str(np.round(max_arr[i,mid],1))+')',color=cs[2])\n",
    "    ax[2,i].set_xlabel('Percent Change (%)')\n",
    "    ax[2,i].set_ylim(ylims)\n",
    "    ax[2,i].set_xlim(xlims_r[i])\n",
    "\n",
    "    ax[3,i].plot(np.zeros(91),model_hgts[model,case][0:91]/1000.0,lw=1,c='k')\n",
    "    ax[3,i].plot(ran_arr[i,:],model_hgts[model,case][0:91]/1000.0,lw=lw,c=cs[2])\n",
    "    ax[3,i].scatter(ran_arr[i,mid],model_hgts[model,case][mid]/1000.0,s=ss,c=cs[2])\n",
    "    ax[3,i].plot(ran2_arr[i,:],model_hgts[model,case][0:91]/1000.0,lw=lw,c=cs[3])\n",
    "    ax[3,i].scatter(ran2_arr[i,mid2],model_hgts[model,case][mid2]/1000.0,s=ss,c=cs[3])\n",
    "    ax[3,i].set_title(ttl_3[i]+' Range ('+str(int(ran2_arr[i,mid2]))+' / '+str(int(ran_arr[i,mid]))+')',color=cs[2])\n",
    "    ax[3,i].set_xlabel('Percent Change (%)')\n",
    "    ax[3,i].set_ylim(ylims)\n",
    "    ax[3,i].set_xlim(xlims_ra[i])\n",
    "            \n",
    "        \n",
    "# Added gridded lines on all the plots\n",
    "for i in np.arange(0,4):\n",
    "    #ax[i,1].set_yticklabels([''])\n",
    "    #ax[i,2].set_yticklabels([''])\n",
    "    for j in np.arange(0,2):\n",
    "        ax[i,0].set_ylabel('Altitude (km)')\n",
    "        ax[i,j].grid()\n",
    "    \n",
    "#plt.tight_layout()   \n",
    "#handles, labels = ax[0,0].get_legend_handles_labels()\n",
    "#fig.legend(handles, labels, fontsize=12, loc='lower right',bbox_to_anchor=[0.95,0.06])\n",
    "#fig.legend(handles, labels, fontsize=14, loc='lower left', ncol=1, bbox_to_anchor=[0.04,0.01])\n",
    "\n",
    "#handles, labels = ax[1,0].get_legend_handles_labels()\n",
    "#fig.legend(handles, labels, fontsize=12, loc='lower right',bbox_to_anchor=[0.95,0.43])\n",
    "#fig.legend(handles, labels, fontsize=14, loc='lower left',ncol=4, bbox_to_anchor=[0.22,0.01])\n",
    "\n",
    "handles, labels = ax[0,0].get_legend_handles_labels()\n",
    "fig.legend(handles, labels, fontsize=11, loc='upper left', ncol=1, bbox_to_anchor=[0.82,0.97])\n",
    "\n",
    "handles, labels = ax[1,0].get_legend_handles_labels()\n",
    "fig.legend(handles, labels, fontsize=11, loc='upper left', ncol=1, bbox_to_anchor=[0.82,0.93])\n",
    "\n",
    "\n",
    "plotdir = '/gws/nopw/j04/acpc/public/pmarin/BAMS/Figs_2024/'\n",
    "savename = 'PubBC_ACPC_W+cld'+str(thr)+'_Profiles_minmaxran'\n",
    "fig.tight_layout(rect=[0,0,0.83,1.0])\n",
    "fig.savefig(os.path.join(plotdir,savename+'.pdf'),dpi=300) \n",
    "fig.savefig(os.path.join(plotdir,savename+'.png'),dpi=300) \n",
    "fig.savefig(os.path.join(plotdir,savename+'.eps'),dpi=300)"
   ]
  },
  {
   "cell_type": "code",
   "execution_count": null,
   "metadata": {},
   "outputs": [],
   "source": []
  },
  {
   "cell_type": "code",
   "execution_count": null,
   "metadata": {},
   "outputs": [],
   "source": []
  },
  {
   "cell_type": "code",
   "execution_count": null,
   "metadata": {},
   "outputs": [],
   "source": []
  },
  {
   "cell_type": "code",
   "execution_count": null,
   "metadata": {},
   "outputs": [],
   "source": []
  },
  {
   "cell_type": "code",
   "execution_count": null,
   "metadata": {},
   "outputs": [],
   "source": []
  },
  {
   "cell_type": "code",
   "execution_count": null,
   "metadata": {},
   "outputs": [],
   "source": []
  },
  {
   "cell_type": "code",
   "execution_count": null,
   "metadata": {},
   "outputs": [],
   "source": []
  },
  {
   "cell_type": "code",
   "execution_count": null,
   "metadata": {},
   "outputs": [],
   "source": []
  },
  {
   "cell_type": "code",
   "execution_count": null,
   "metadata": {
    "scrolled": true
   },
   "outputs": [],
   "source": []
  },
  {
   "cell_type": "code",
   "execution_count": null,
   "metadata": {},
   "outputs": [],
   "source": []
  },
  {
   "cell_type": "code",
   "execution_count": null,
   "metadata": {},
   "outputs": [],
   "source": []
  },
  {
   "cell_type": "code",
   "execution_count": null,
   "metadata": {},
   "outputs": [],
   "source": []
  },
  {
   "cell_type": "markdown",
   "metadata": {},
   "source": []
  },
  {
   "cell_type": "code",
   "execution_count": null,
   "metadata": {},
   "outputs": [],
   "source": []
  },
  {
   "cell_type": "code",
   "execution_count": null,
   "metadata": {},
   "outputs": [],
   "source": []
  },
  {
   "cell_type": "code",
   "execution_count": null,
   "metadata": {},
   "outputs": [],
   "source": []
  }
 ],
 "metadata": {
  "kernelspec": {
   "display_name": "Python 3",
   "language": "python",
   "name": "python3"
  },
  "language_info": {
   "codemirror_mode": {
    "name": "ipython",
    "version": 3
   },
   "file_extension": ".py",
   "mimetype": "text/x-python",
   "name": "python",
   "nbconvert_exporter": "python",
   "pygments_lexer": "ipython3",
   "version": "3.6.8"
  }
 },
 "nbformat": 4,
 "nbformat_minor": 4
}
